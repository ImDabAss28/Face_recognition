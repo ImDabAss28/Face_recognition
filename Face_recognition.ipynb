{
 "cells": [
  {
   "cell_type": "code",
   "execution_count": 96,
   "metadata": {},
   "outputs": [],
   "source": [
    "from PIL import Image\n",
    "import os\n",
    "import matplotlib.pyplot as plt\n",
    "\n",
    "#load images convert to RGB and resize to 48x48 pixels\n",
    "\n",
    "target_size = 48\n",
    "input_dir = \"C:\\\\Users\\\\ThinkPad\\\\Desktop\\\\BME\\\\4. szemeszter\\\\Machine learning\\\\project\\\\dataset1\\\\part1\" # change to your input directory obv\n",
    "\n",
    "def load_images(input_dir, target_size):\n",
    "    \n",
    "    image_names = os.listdir(input_dir)\n",
    "    path = os.path.join(input_dir, image_names[0])\n",
    "    img = Image.open(path).convert(\"RGB\")\n",
    "\n",
    "    images = [Image.open(os.path.join(input_dir, name)).convert(\"RGB\").resize((target_size, target_size), Image.LANCZOS) for name in image_names]\n",
    "\n",
    "    return image_names, images\n",
    "\n",
    "def plot_images(img):\n",
    "    plt.imshow(img)\n",
    "    plt.axis('off')\n",
    "    plt.show()\n"
   ]
  },
  {
   "cell_type": "code",
   "execution_count": 97,
   "metadata": {},
   "outputs": [],
   "source": [
    "image_names, images = load_images(input_dir, target_size) #this takes a while lol"
   ]
  },
  {
   "cell_type": "code",
   "execution_count": 90,
   "metadata": {},
   "outputs": [
    {
     "name": "stdout",
     "output_type": "stream",
     "text": [
      "(10137, 6912)\n"
     ]
    }
   ],
   "source": [
    "import numpy as np\n",
    "# flatten the images to 1D arrays\n",
    "\n",
    "pixels = np.array([np.array(images[0]).reshape(-1) for img in images])\n",
    "print(pixels.shape)"
   ]
  },
  {
   "cell_type": "code",
   "execution_count": 86,
   "metadata": {},
   "outputs": [
    {
     "name": "stdout",
     "output_type": "stream",
     "text": [
      "[0.86206897 0.86206897 0.86206897 ... 0.07758621 0.07758621 0.07758621]\n",
      "['1' '1' '1' ... '1' '1' '1']\n",
      "[[1. 0. 0. ... 0. 0. 0.]\n",
      " [0. 0. 1. ... 0. 0. 0.]\n",
      " [0. 0. 1. ... 0. 0. 0.]\n",
      " ...\n",
      " [0. 0. 0. ... 0. 0. 1.]\n",
      " [0. 0. 0. ... 0. 0. 1.]\n",
      " [0. 0. 0. ... 0. 0. 1.]]\n"
     ]
    }
   ],
   "source": [
    "from sklearn.preprocessing import OneHotEncoder\n",
    "#getting labels from filenames\n",
    "\n",
    "base = np.array([names.split(\".\")[0] for names in image_names]) # swap image_names here for for part 2 and 3 if needed\n",
    "parts = np.array([name.split(\"_\")[:3] for name in base])\n",
    "\n",
    "age = np.array([int(part[0]) for part in parts]) # 0-116 int\n",
    "gender = np.array([part[1] for part in parts]) # 0 = M, 1 = F\n",
    "ethnicity = np.array([part[2] for part in parts]) # 0 = White, 1 = Black, 2 = Asian, 3 = Indian, 4 = Other\n",
    "\n",
    "enc = OneHotEncoder(sparse_output=False)\n",
    "\n",
    "age_norm = age / 116.0\n",
    "gender_norm = gender\n",
    "ethnicity_norm = enc.fit_transform(ethnicity.reshape(-1, 1)) # one hot encode\n",
    "\n",
    "print(age_norm)\n",
    "print(gender_norm)\n",
    "print(ethnicity_norm)"
   ]
  },
  {
   "cell_type": "code",
   "execution_count": 91,
   "metadata": {},
   "outputs": [],
   "source": [
    "input_dir_angry = \"C:\\\\Users\\\\ThinkPad\\\\Desktop\\\\BME\\\\4. szemeszter\\\\Machine learning\\\\project\\\\dataset2\\\\train\\\\angry\"\n",
    "input_dir_disgust = \"C:\\\\Users\\\\ThinkPad\\\\Desktop\\\\BME\\\\4. szemeszter\\\\Machine learning\\\\project\\\\dataset2\\\\train\\\\disgust\"\n",
    "input_dir_fear = \"C:\\\\Users\\\\ThinkPad\\\\Desktop\\\\BME\\\\4. szemeszter\\\\Machine learning\\\\project\\\\dataset2\\\\train\\\\fear\"\n",
    "input_dir_happy = \"C:\\\\Users\\\\ThinkPad\\\\Desktop\\\\BME\\\\4. szemeszter\\\\Machine learning\\\\project\\\\dataset2\\\\train\\\\happy\"\n",
    "input_dir_neutral = \"C:\\\\Users\\\\ThinkPad\\\\Desktop\\\\BME\\\\4. szemeszter\\\\Machine learning\\\\project\\\\dataset2\\\\train\\\\neutral\"\n",
    "input_dir_sad = \"C:\\\\Users\\\\ThinkPad\\\\Desktop\\\\BME\\\\4. szemeszter\\\\Machine learning\\\\project\\\\dataset2\\\\train\\\\sad\"\n",
    "input_dir_surprise = \"C:\\\\Users\\\\ThinkPad\\\\Desktop\\\\BME\\\\4. szemeszter\\\\Machine learning\\\\project\\\\dataset2\\\\train\\\\surprise\"\n",
    "\n",
    "image_names_angry, images_angry = load_images(input_dir_angry, target_size)\n",
    "image_names_disgust, images_disgust = load_images(input_dir_disgust, target_size)\n",
    "image_names_fear, images_fear = load_images(input_dir_fear, target_size)\n",
    "image_names_happy, images_happy = load_images(input_dir_happy, target_size)\n",
    "image_names_neutral, images_neutral = load_images(input_dir_neutral, target_size)\n",
    "image_names_sad, images_sad = load_images(input_dir_sad, target_size)\n",
    "image_names_surprise, images_surprise = load_images(input_dir_surprise, target_size)\n",
    "\n",
    "images_emotions = np.concat(([images_angry, images_disgust, images_fear, images_happy, images_neutral, images_sad, images_surprise]))\n"
   ]
  },
  {
   "cell_type": "code",
   "execution_count": null,
   "metadata": {},
   "outputs": [
    {
     "name": "stdout",
     "output_type": "stream",
     "text": [
      "[229 233 239 ... 255 255 255]\n"
     ]
    }
   ],
   "source": [
    "\n",
    "pixels_emotions = np.array([np.array(images_emotions[0]).reshape(-1) for img in images_emotions])\n",
    "\n",
    "\n",
    "labels = np.concat([np.ones(len(images_angry)),np.ones(len(images_disgust))*2,np.ones(len(images_fear))*3,np.ones(len(images_happy))*4,np.ones(len(images_neutral))*5,np.ones(len(images_sad))*6,np.ones(len(images_surprise))*7])\n",
    "labels_norm = enc.fit_transform(labels.reshape(-1, 1))  # one hot encode\n",
    "\n",
    "print(pixels_emotions[0])"
   ]
  }
 ],
 "metadata": {
  "kernelspec": {
   "display_name": "virtual_env",
   "language": "python",
   "name": "python3"
  },
  "language_info": {
   "codemirror_mode": {
    "name": "ipython",
    "version": 3
   },
   "file_extension": ".py",
   "mimetype": "text/x-python",
   "name": "python",
   "nbconvert_exporter": "python",
   "pygments_lexer": "ipython3",
   "version": "3.12.5"
  }
 },
 "nbformat": 4,
 "nbformat_minor": 2
}
