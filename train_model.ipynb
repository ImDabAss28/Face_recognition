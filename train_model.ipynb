{
 "cells": [
  {
   "cell_type": "code",
   "execution_count": 2,
   "id": "031c5d72-c6a1-477a-8120-bd6cd06d58f1",
   "metadata": {},
   "outputs": [],
   "source": [
    "import numpy as np\n",
    "import matplotlib.pyplot as plt\n",
    "import tflearn\n",
    "from tflearn.layers.conv import conv_2d, max_pool_2d\n",
    "from tflearn.layers.core import input_data, dropout, fully_connected\n",
    "from tflearn.layers.estimator import regression\n",
    "import tensorflow as tf\n",
    "\n",
    "# we build the convulutional neural network\n",
    "\n",
    "cnn = input_data(shape = [None, target_size, target_size, 1]) # input layer\n",
    "for i in [32, 64, 128, 64, 32]:\n",
    "    # convulution + activation + pooling\n",
    "    cnn = conv_2d(cnn, i, 5)\n",
    "    cnn = max_pool(cnn, 5)\n",
    "\n",
    "cnn = fully_connected(cnn, 1024, activation='softmax')\n",
    "cnn = regression(cnn, optimizer ='adam', learning_rate = LR, loss ='categorical_crossentropy')\n",
    "\n",
    "model = tflearn.DNN(cnn)\n",
    "# x: images y: labels\n",
    "model.fit({'input': X}, {'targets': Y}, n_epoch = 5, \n",
    "    validation_set =({'input': test_x}, {'targets': test_y}), \n",
    "    snapshot_step = 500, show_metric = True)\n",
    "\n"
   ]
  }
 ],
 "metadata": {
  "kernelspec": {
   "display_name": "Python 3 (ipykernel)",
   "language": "python",
   "name": "python3"
  },
  "language_info": {
   "codemirror_mode": {
    "name": "ipython",
    "version": 3
   },
   "file_extension": ".py",
   "mimetype": "text/x-python",
   "name": "python",
   "nbconvert_exporter": "python",
   "pygments_lexer": "ipython3",
   "version": "3.12.0"
  }
 },
 "nbformat": 4,
 "nbformat_minor": 5
}
